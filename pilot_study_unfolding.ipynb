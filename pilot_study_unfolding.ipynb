{
 "cells": [
  {
   "cell_type": "markdown",
   "id": "67404dd8",
   "metadata": {},
   "source": [
    "This notebook runs a pilot study in which all components of the unfolding problem example pipeline are executed including:\n",
    "1. Generating Data\n",
    "    - Perform a quick and dirty coverage study using the quantile obtained elsewhere\n",
    "2. Rough coverage study with OSB, Oracle, and constant adaOSB\n",
    "3. Generating polytopes\n",
    "4. Sampling from polytopes\n",
    "5. Sampling from null LLR distributions\n",
    "6. Fitting quantile regression\n",
    "7. Computing intervals"
   ]
  },
  {
   "cell_type": "code",
   "execution_count": 1,
   "id": "0069b184",
   "metadata": {},
   "outputs": [],
   "source": [
    "from adaFuncCI.data_generation import unfoldingGenerator\n",
    "from adaFuncCI.llr import llrSolver\n",
    "from adaFuncCI.optimize import osb_int\n",
    "from adaFuncCI.utils import int_cover, find_cis\n",
    "import matplotlib.pyplot as plt\n",
    "import numpy as np\n",
    "from scipy import stats\n",
    "from tqdm.notebook import tqdm"
   ]
  },
  {
   "cell_type": "code",
   "execution_count": 2,
   "id": "bfb83d6b",
   "metadata": {},
   "outputs": [],
   "source": [
    "with open('./data/unfold_true_dim80_smear_dim40/unfolding_data_00.npz', 'rb') as f:\n",
    "    data_obj = np.load(f)\n",
    "    y_tilde = data_obj['y_tilde']\n",
    "    K_tilde = data_obj['K_tilde']\n",
    "    h = data_obj['h']\n",
    "    alpha = float(data_obj['alpha'])\n",
    "    eta = float(data_obj['eta'])\n",
    "    gamma = float(data_obj['gamma'])\n",
    "    \n",
    "# problem dimesions\n",
    "n, p = K_tilde.shape"
   ]
  },
  {
   "cell_type": "markdown",
   "id": "c511ae3f",
   "metadata": {},
   "source": [
    "# 1 - Generate Data"
   ]
  },
  {
   "cell_type": "code",
   "execution_count": 3,
   "id": "d91a8153",
   "metadata": {},
   "outputs": [],
   "source": [
    "# create unfolding object\n",
    "unfold_obj = unfoldingGenerator(dim_true=80, dim_smear=40)"
   ]
  },
  {
   "cell_type": "code",
   "execution_count": 4,
   "id": "a01d5f9d",
   "metadata": {},
   "outputs": [
    {
     "data": {
      "image/png": "[encoded data removed]",
      "text/plain": [
       "<Figure size 1200x500 with 2 Axes>"
      ]
     },
     "metadata": {},
     "output_type": "display_data"
    }
   ],
   "source": [
    "fig, ax = plt.subplots(ncols=2, nrows=1, figsize=(12, 5))\n",
    "WIDTH_TRUE = unfold_obj.edges_true[1] - unfold_obj.edges_true[0]\n",
    "WIDTH_SMEAR = unfold_obj.edges_smear[1] - unfold_obj.edges_smear[0]\n",
    "ax[0].bar(x=unfold_obj.edges_true[:-1], height=unfold_obj.means_true, width=WIDTH_TRUE)\n",
    "ax[1].bar(x=unfold_obj.edges_smear[:-1], height=unfold_obj.means_smear, width=WIDTH_SMEAR)\n",
    "plt.show()"
   ]
  },
  {
   "cell_type": "code",
   "execution_count": 5,
   "id": "fb009eea",
   "metadata": {},
   "outputs": [],
   "source": [
    "# sample data\n",
    "NUM_SAMP = 1000\n",
    "data = unfold_obj.sample_ensemble(num_elements=NUM_SAMP)\n",
    "\n",
    "# transform\n",
    "data_tilde = data @ unfold_obj.L_data_inv.T"
   ]
  },
  {
   "cell_type": "markdown",
   "id": "283ffabf",
   "metadata": {},
   "source": [
    "# 2 - Rough run with OSB, Oracle, and adaOSB"
   ]
  },
  {
   "cell_type": "markdown",
   "id": "01505fc2",
   "metadata": {},
   "source": [
    "#### Estimate the oracle quantile"
   ]
  },
  {
   "cell_type": "code",
   "execution_count": 6,
   "id": "9f8b041f",
   "metadata": {},
   "outputs": [
    {
     "name": "stdout",
     "output_type": "stream",
     "text": [
      "(10000, 40)\n"
     ]
    }
   ],
   "source": [
    "# define the true functional value\n",
    "mu_true = np.dot(h, unfold_obj.means_true)\n",
    "\n",
    "# upper quantile level\n",
    "ALPHA = 0.32\n",
    "\n",
    "# sample data\n",
    "M = 10000\n",
    "np.random.seed(112358)\n",
    "noise_orcl = stats.multivariate_normal(mean=np.zeros(n), cov=np.identity(n)).rvs(M)\n",
    "data_orcl = K_tilde @ unfold_obj.means_true + noise_orcl\n",
    "print(data_orcl.shape)"
   ]
  },
  {
   "cell_type": "code",
   "execution_count": 7,
   "id": "8c92da56",
   "metadata": {},
   "outputs": [],
   "source": [
    "# create the llr solver\n",
    "llr_solver = llrSolver(K=K_tilde, h=h)"
   ]
  },
  {
   "cell_type": "code",
   "execution_count": null,
   "id": "b2a0600f",
   "metadata": {},
   "outputs": [],
   "source": [
    "llr_samp = np.zeros(M)\n",
    "for i in tqdm(range(M)):\n",
    "    llr_samp[i] = llr_solver.solve_llr(y=data_orcl[i], mu=mu_true)[0]"
   ]
  },
  {
   "cell_type": "code",
   "execution_count": 10,
   "id": "0739003b",
   "metadata": {},
   "outputs": [
    {
     "name": "stdout",
     "output_type": "stream",
     "text": [
      "0.06684350394220191\n",
      "[[0.06431361 0.0697828 ]]\n"
     ]
    }
   ],
   "source": [
    "# estimate 1 - ALPHA quantile and ci\n",
    "orcl_q_est = np.percentile(llr_samp, q=(1 - ALPHA) * 100)\n",
    "orcl_q_ci = find_cis(llr_samp[np.newaxis, :], alpha_quantile=ALPHA, alpha_interval=0.05, window_ub=100)\n",
    "print(orcl_q_est)\n",
    "print(orcl_q_ci)"
   ]
  },
  {
   "cell_type": "markdown",
   "id": "d4eb8066",
   "metadata": {},
   "source": [
    "#### Estimate coverage for three settings"
   ]
  },
  {
   "cell_type": "code",
   "execution_count": 18,
   "id": "682231d6",
   "metadata": {},
   "outputs": [
    {
     "data": {
      "application/vnd.jupyter.widget-view+json": {
       "model_id": "ed16f6623ce94be49074e432fa68da8a",
       "version_major": 2,
       "version_minor": 0
      },
      "text/plain": [
       "  0%|          | 0/1000 [00:00<?, ?it/s]"
      ]
     },
     "metadata": {},
     "output_type": "display_data"
    },
    {
     "name": "stderr",
     "output_type": "stream",
     "text": [
      "/Users/mikestanley/anaconda3/envs/mc_sampling/lib/python3.8/site-packages/cvxpy/problems/problem.py:1403: UserWarning: Solution may be inaccurate. Try another solver, adjusting the solver settings, or solve with verbose=True for more information.\n",
      "  warnings.warn(\n"
     ]
    }
   ],
   "source": [
    "# quantile settings\n",
    "q_osb = stats.chi2(df=1).ppf(1 - ALPHA)\n",
    "q_adaosb = 0.367\n",
    "\n",
    "intervals = np.zeros(shape=(3, NUM_SAMP, 2))  # 0: OSB - 1: adaOSB - 2: oracle\n",
    "for i in tqdm(range(NUM_SAMP)):\n",
    "    \n",
    "    # OSB\n",
    "    intervals[0, i, :] = osb_int(y=data_tilde[i], q=q_osb, K=unfold_obj.K_tilde, h=h)\n",
    "\n",
    "    # adaOSB\n",
    "    intervals[1, i, :] = osb_int(y=data_tilde[i], q=q_adaosb, K=unfold_obj.K_tilde, h=h)\n",
    "\n",
    "    # oracle\n",
    "    intervals[2, i, :] = osb_int(y=data_tilde[i], q=orcl_q_est, K=unfold_obj.K_tilde, h=h)"
   ]
  },
  {
   "cell_type": "code",
   "execution_count": 11,
   "id": "cdc5b417",
   "metadata": {},
   "outputs": [],
   "source": [
    "# compute coverage\n",
    "coverage = np.zeros(shape=(NUM_SAMP, 3))  # 0: OSB - 1: adaOSB - 2: oracle\n",
    "for i in range(NUM_SAMP):\n",
    "    coverage[i, 0] = int_cover(mu_true=mu_true, interval=intervals[0, i, :])\n",
    "    coverage[i, 1] = int_cover(mu_true=mu_true, interval=intervals[1, i, :])\n",
    "    coverage[i, 2] = int_cover(mu_true=mu_true, interval=intervals[2, i, :])"
   ]
  },
  {
   "cell_type": "code",
   "execution_count": 12,
   "id": "ae7f2fdf",
   "metadata": {},
   "outputs": [
    {
     "name": "stdout",
     "output_type": "stream",
     "text": [
      "Estimated Coverages\n",
      "OSB | adaOSB | Oracle\n"
     ]
    },
    {
     "data": {
      "text/plain": [
       "array([0.993, 0.944, 0.671])"
      ]
     },
     "execution_count": 12,
     "metadata": {},
     "output_type": "execute_result"
    }
   ],
   "source": [
    "print('Estimated Coverages')\n",
    "print('OSB | adaOSB | Oracle')\n",
    "coverage.mean(axis=0)"
   ]
  },
  {
   "cell_type": "code",
   "execution_count": 13,
   "id": "d9cf8fcf",
   "metadata": {},
   "outputs": [
    {
     "name": "stdout",
     "output_type": "stream",
     "text": [
      "OSB mean length    : 1718.227188991122\n",
      "adaOSB mean length : 1306.1654598189316\n",
      "Oracle mean length : 677.986542129349\n"
     ]
    }
   ],
   "source": [
    "# look at interval lengths\n",
    "osb_mean_len = (intervals[0, :, 1] - intervals[0, :, 0]).mean()\n",
    "adaosb_mean_len = (intervals[1, :, 1] - intervals[1, :, 0]).mean()\n",
    "oracle_mean_len = (intervals[2, :, 1] - intervals[2, :, 0]).mean()\n",
    "print(f'OSB mean length    : {osb_mean_len}')\n",
    "print(f'adaOSB mean length : {adaosb_mean_len}')\n",
    "print(f'Oracle mean length : {oracle_mean_len}')"
   ]
  },
  {
   "cell_type": "markdown",
   "id": "78800d91",
   "metadata": {},
   "source": [
    "# 3 - Create Polytope"
   ]
  },
  {
   "cell_type": "code",
   "execution_count": 12,
   "id": "d8c901d5",
   "metadata": {},
   "outputs": [],
   "source": [
    "from adaFuncCI.sample import polytopeSampler\n",
    "import json"
   ]
  },
  {
   "cell_type": "code",
   "execution_count": 13,
   "id": "73a19cbc",
   "metadata": {},
   "outputs": [
    {
     "name": "stdout",
     "output_type": "stream",
     "text": [
      "{'chain_length': 25000, 'num_hp': 200, 'random_seed_hp_gen': 112358, 'radius': 0.5, 'alpha': 0.32, 'eta': 0.01, 'burn_in': 10000, 'functional_idx': 6, 'polytope_type': 'eigen+random', 'mcmc_alg': 'vaidya'}\n"
     ]
    }
   ],
   "source": [
    "# acquire MCMC sampler settings\n",
    "MCMC_PARAM_FP = './data/parameter_settings_mcmc/mcmc_parameters0.json'\n",
    "with open(MCMC_PARAM_FP, 'rb') as f:\n",
    "    mcmc_params = json.load(f)\n",
    "    \n",
    "print(mcmc_params)"
   ]
  },
  {
   "cell_type": "code",
   "execution_count": 14,
   "id": "7aa50e68",
   "metadata": {},
   "outputs": [
    {
     "name": "stderr",
     "output_type": "stream",
     "text": [
      "100%|███████████████████████████████████████████████████████████████████████████████████████████████████████████████| 200/200 [00:05<00:00, 33.75it/s]\n",
      "/Users/mikestanley/anaconda3/envs/mc_sampling/lib/python3.8/site-packages/cvxpy/problems/problem.py:1403: UserWarning: Solution may be inaccurate. Try another solver, adjusting the solver settings, or solve with verbose=True for more information.\n",
      "  warnings.warn(\n"
     ]
    },
    {
     "name": "stdout",
     "output_type": "stream",
     "text": [
      "(1815.1531980426118, 5272.42630868622)\n"
     ]
    }
   ],
   "source": [
    "# instantiate sampler\n",
    "OBS_IDX = 100\n",
    "eigen_sampler = polytopeSampler(\n",
    "    y=data_tilde[OBS_IDX],\n",
    "    eta=mcmc_params[\"eta\"],\n",
    "    K=K_tilde,\n",
    "    h=h,\n",
    "    N_hp=mcmc_params['num_hp'],\n",
    "    r=0.5,\n",
    "    random_seed=mcmc_params[\"random_seed_hp_gen\"],\n",
    "    polytope_type=mcmc_params['polytope_type'],\n",
    "    alg=mcmc_params[\"mcmc_alg\"],\n",
    "    disable_tqdm=False\n",
    ")\n",
    "\n",
    "# look at the ssb interval\n",
    "print(eigen_sampler.ssb_interval)"
   ]
  },
  {
   "cell_type": "markdown",
   "id": "5ed34390",
   "metadata": {},
   "source": [
    "# 4 - Sample from polytope"
   ]
  },
  {
   "cell_type": "code",
   "execution_count": 15,
   "id": "94e5f40d",
   "metadata": {},
   "outputs": [],
   "source": [
    "from time import time"
   ]
  },
  {
   "cell_type": "code",
   "execution_count": 69,
   "id": "52ceae37",
   "metadata": {},
   "outputs": [
    {
     "name": "stdout",
     "output_type": "stream",
     "text": [
      "1500.0\n"
     ]
    }
   ],
   "source": [
    "# set chain parameters\n",
    "M = 21000\n",
    "# mix_grid = [0.03, 0.05, 0.1, 0.15, 0.2, 0.25, 0.3, 0.35]\n",
    "mix_grid = [0.05, 0.1, 0.2, 0.4, 0.6, 0.8, 0.95]\n",
    "# mix_grid = [0.05, 0.3, 0.5, 0.7, 0.95]\n",
    "\n",
    "print(M / (2 * len(mix_grid)))"
   ]
  },
  {
   "cell_type": "code",
   "execution_count": 30,
   "id": "fc52a4ab",
   "metadata": {},
   "outputs": [
    {
     "data": {
      "text/plain": [
       "array([1866.75380042, 2124.7568123 , 2331.15922181, 2537.56163131,\n",
       "       2795.56464319, 5151.16325553, 4544.84798975, 4059.79577713,\n",
       "       3574.74356451, 2968.42829873])"
      ]
     },
     "execution_count": 30,
     "metadata": {},
     "output_type": "execute_result"
    }
   ],
   "source": [
    "# take a look at the starting point functional values to make sure we're getting a good spread\n",
    "grid_size = 2 * len(mix_grid)\n",
    "start_points = np.zeros(shape=(grid_size, K_tilde.shape[1]))\n",
    "\n",
    "for i, t in enumerate(mix_grid):\n",
    "\n",
    "    # mix with LB\n",
    "    start_points[i, :] = (1 - t) * eigen_sampler.x_lb_ssb + t * eigen_sampler.cheb_center\n",
    "\n",
    "    # mix with UB\n",
    "    start_points[\n",
    "        i + len(mix_grid), :\n",
    "    ] = (1 - t) * eigen_sampler.x_ub_ssb + t * eigen_sampler.cheb_center\n",
    "start_points @ h"
   ]
  },
  {
   "cell_type": "code",
   "execution_count": 31,
   "id": "22e659d5",
   "metadata": {},
   "outputs": [
    {
     "name": "stderr",
     "output_type": "stream",
     "text": [
      "100%|█████████████████████████████████████████████████████████████████████████████████████████████████████████████████| 10/10 [02:16<00:00, 13.70s/it]\n"
     ]
    },
    {
     "name": "stdout",
     "output_type": "stream",
     "text": [
      "Train set sampled | Elapsed time: 137.0234968662262 seconds\n"
     ]
    },
    {
     "name": "stderr",
     "output_type": "stream",
     "text": [
      "100%|█████████████████████████████████████████████████████████████████████████████████████████████████████████████████| 10/10 [02:17<00:00, 13.75s/it]"
     ]
    },
    {
     "name": "stdout",
     "output_type": "stream",
     "text": [
      "Test set sampled | Elapsed time: 274.52718591690063 seconds\n"
     ]
    },
    {
     "name": "stderr",
     "output_type": "stream",
     "text": [
      "\n"
     ]
    }
   ],
   "source": [
    "# sample chains\n",
    "START = time()\n",
    "\n",
    "chain_train = eigen_sampler.sample_mixed_ensemble(\n",
    "    M=M, mix_grid=mix_grid\n",
    ")\n",
    "print(f'Train set sampled | Elapsed time: {time() - START} seconds')\n",
    "\n",
    "chain_test = eigen_sampler.sample_mixed_ensemble(\n",
    "    M=M, mix_grid=mix_grid, burn_in=100\n",
    ")\n",
    "print(f'Test set sampled | Elapsed time: {time() - START} seconds')"
   ]
  },
  {
   "cell_type": "code",
   "execution_count": 32,
   "id": "b0895224",
   "metadata": {},
   "outputs": [],
   "source": [
    "# compute functional values across these samples to assess mixing\n",
    "chain_f_train = chain_train @ h\n",
    "chain_f_test = chain_test @ h"
   ]
  },
  {
   "cell_type": "code",
   "execution_count": 33,
   "id": "74697f66",
   "metadata": {},
   "outputs": [
    {
     "data": {
      "image/png": "[encoded data removed]",
      "text/plain": [
       "<Figure size 800x400 with 1 Axes>"
      ]
     },
     "metadata": {},
     "output_type": "display_data"
    }
   ],
   "source": [
    "plt.figure(figsize=(8, 4))\n",
    "plt.scatter(np.arange(M), chain_f_train, label='Train')\n",
    "plt.scatter(np.arange(M), chain_f_test, label='Test')\n",
    "plt.axhline(eigen_sampler.ssb_interval[0], label='SSB', linestyle='--', color='gray')\n",
    "plt.axhline(eigen_sampler.ssb_interval[1], linestyle='--', color='gray')\n",
    "# plt.xlim(0, 100)\n",
    "plt.legend()\n",
    "plt.show()"
   ]
  },
  {
   "cell_type": "code",
   "execution_count": 34,
   "id": "ff2a6cd2",
   "metadata": {},
   "outputs": [
    {
     "data": {
      "image/png": "[encoded data removed]",
      "text/plain": [
       "<Figure size 640x480 with 1 Axes>"
      ]
     },
     "metadata": {},
     "output_type": "display_data"
    }
   ],
   "source": [
    "plt.hist(chain_f_train, bins=40, histtype='step', label='Train')\n",
    "plt.hist(chain_f_test, bins=40, histtype='step', label='Test')\n",
    "plt.legend()\n",
    "plt.show()"
   ]
  },
  {
   "cell_type": "markdown",
   "id": "3a546a6b",
   "metadata": {},
   "source": [
    "# 5 - Sample from null LLR distributions"
   ]
  },
  {
   "cell_type": "code",
   "execution_count": 38,
   "id": "4791ee4e",
   "metadata": {},
   "outputs": [],
   "source": [
    "from adaFuncCI.sample import nullTestStatSampler"
   ]
  },
  {
   "cell_type": "code",
   "execution_count": 39,
   "id": "d9ff8593",
   "metadata": {},
   "outputs": [],
   "source": [
    "# instantiate the nullTestStatSampler object\n",
    "teststat_samp = nullTestStatSampler(\n",
    "    noise_distr=stats.norm,\n",
    "    test_stat=llr_solver,\n",
    "    K=K_tilde, h=h,\n",
    "    disable_tqdm=False\n",
    ")"
   ]
  },
  {
   "cell_type": "code",
   "execution_count": 40,
   "id": "0f254c73",
   "metadata": {},
   "outputs": [
    {
     "name": "stderr",
     "output_type": "stream",
     "text": [
      "  1%|█▌                                                                                                           | 278/20000 [00:08<10:03, 32.67it/s]/Users/mikestanley/anaconda3/envs/mc_sampling/lib/python3.8/site-packages/cvxpy/problems/problem.py:1403: UserWarning: Solution may be inaccurate. Try another solver, adjusting the solver settings, or solve with verbose=True for more information.\n",
      "  warnings.warn(\n",
      "100%|███████████████████████████████████████████████████████████████████████████████████████████████████████████| 20000/20000 [14:56<00:00, 22.31it/s]\n"
     ]
    }
   ],
   "source": [
    "# sample from llr null distributions defined by the polytope train sample\n",
    "llr_samples = teststat_samp.sample_teststat(\n",
    "    param_vals=chain_train, random_seed=3145\n",
    ")"
   ]
  },
  {
   "cell_type": "markdown",
   "id": "7a0bb727",
   "metadata": {},
   "source": [
    "# 6 - Fit quantile regression"
   ]
  },
  {
   "cell_type": "code",
   "execution_count": 43,
   "id": "7a861d73",
   "metadata": {},
   "outputs": [],
   "source": [
    "from adaFuncCI.max_quantile import maxQuantileQR"
   ]
  },
  {
   "cell_type": "code",
   "execution_count": 44,
   "id": "9fe74e01",
   "metadata": {},
   "outputs": [],
   "source": [
    "# instantiate the object\n",
    "qr = maxQuantileQR(\n",
    "    X_train=chain_train, X_test=chain_test, y_train=llr_samples, q=gamma, hyperparams=None\n",
    ")"
   ]
  },
  {
   "cell_type": "code",
   "execution_count": 45,
   "id": "397f230b",
   "metadata": {},
   "outputs": [],
   "source": [
    "# find the max in/out sample quantiles\n",
    "qr.estimate(random_state_reg=0, random_state_cv=1)"
   ]
  },
  {
   "cell_type": "code",
   "execution_count": 46,
   "id": "26df83be",
   "metadata": {},
   "outputs": [
    {
     "name": "stdout",
     "output_type": "stream",
     "text": [
      "--- Estimated quantiles ---\n",
      "In-sample  : 2.543418424490258\n",
      "Out-sample : 2.7550412762417067\n"
     ]
    }
   ],
   "source": [
    "print('--- Estimated quantiles ---')\n",
    "print(f'In-sample  : {qr.maxq_insample.max()}')\n",
    "print(f'Out-sample : {qr.maxq_outsample.max()}')"
   ]
  },
  {
   "cell_type": "code",
   "execution_count": 47,
   "id": "9c3ff1ae",
   "metadata": {},
   "outputs": [
    {
     "data": {
      "text/plain": [
       "{'min_samples_split': 30,\n",
       " 'min_samples_leaf': 1,\n",
       " 'max_depth': 2,\n",
       " 'learning_rate': 0.1,\n",
       " 'n_estimators': 150}"
      ]
     },
     "execution_count": 47,
     "metadata": {},
     "output_type": "execute_result"
    }
   ],
   "source": [
    "# display hyperparameters to save for coverage study\n",
    "qr.hyperparams_dict"
   ]
  },
  {
   "cell_type": "code",
   "execution_count": 48,
   "id": "5ed63142",
   "metadata": {},
   "outputs": [
    {
     "data": {
      "image/png": "[encoded data removed]",
      "text/plain": [
       "<Figure size 800x500 with 1 Axes>"
      ]
     },
     "metadata": {},
     "output_type": "display_data"
    }
   ],
   "source": [
    "# look at distribution of predicted quantiles\n",
    "predicted_oos_quantiles = qr.gbt.predict(chain_test)\n",
    "predicted_is_quantiles = qr.gbt.predict(chain_train)\n",
    "\n",
    "plt.figure(figsize=(8, 5))\n",
    "plt.hist(predicted_oos_quantiles, bins=40, histtype='step', label='Out-of-sample')\n",
    "plt.hist(predicted_is_quantiles, bins=40, histtype='step', label='In-sample')\n",
    "plt.axvline(stats.chi2(1).ppf(0.68), linestyle='--', color='gray')\n",
    "plt.legend()\n",
    "plt.show()"
   ]
  },
  {
   "cell_type": "code",
   "execution_count": 49,
   "id": "b77f23aa",
   "metadata": {},
   "outputs": [
    {
     "data": {
      "text/plain": [
       "(1648.7587732773225, 5467.219326512222)"
      ]
     },
     "execution_count": 49,
     "metadata": {},
     "output_type": "execute_result"
    }
   ],
   "source": [
    "# what's going on with that very large prediction?\n",
    "chain_f_test[predicted_oos_quantiles.argmax()], chain_f_test.max()"
   ]
  },
  {
   "cell_type": "code",
   "execution_count": 50,
   "id": "c6944172",
   "metadata": {},
   "outputs": [
    {
     "data": {
      "text/plain": [
       "(5040.583249245995, 5258.311488251249)"
      ]
     },
     "execution_count": 50,
     "metadata": {},
     "output_type": "execute_result"
    }
   ],
   "source": [
    "chain_f_train[predicted_is_quantiles.argmax()], chain_f_train.max()"
   ]
  },
  {
   "cell_type": "markdown",
   "id": "73e5b998",
   "metadata": {},
   "source": [
    "# 7 - Compute intervals"
   ]
  },
  {
   "cell_type": "markdown",
   "id": "afbc44bd",
   "metadata": {},
   "source": [
    "Interval to compute:\n",
    "1. MQ Direct -- Accept/Reject points based on max oos quantile\n",
    "2. MQ Opt -- Optimize interval using max oos quantile\n",
    "3. MQmu Param -- Accept/Reject points based on their LLR with data being less than oos quantile\n",
    "4. MQmu func -- Accept/Reject functional points based on estimated max quantile function\n",
    "5. OSB Interval"
   ]
  },
  {
   "cell_type": "code",
   "execution_count": 51,
   "id": "dc58d017",
   "metadata": {},
   "outputs": [],
   "source": [
    "from sklearn.gaussian_process import GaussianProcessRegressor\n",
    "from sklearn.gaussian_process.kernels import RBF"
   ]
  },
  {
   "cell_type": "code",
   "execution_count": 52,
   "id": "5b065f4d",
   "metadata": {},
   "outputs": [],
   "source": [
    "def I_vals(qoi_arr, mu_grid):\n",
    "    \"\"\"\n",
    "    Assigns index {0,...,N} to each value in qoi_arr where N\n",
    "    is the total number of bins\n",
    "    \"\"\"\n",
    "    bin_assign = np.zeros_like(qoi_arr)\n",
    "    for i, qoi in enumerate(qoi_arr):\n",
    "        \n",
    "        # smallest index where less than\n",
    "        lt_i = np.where(qoi <= mu_grid)[0][0]\n",
    "        \n",
    "        bin_assign[i] = lt_i - 1 if lt_i > 0 else 0\n",
    "        \n",
    "    return bin_assign\n",
    "\n",
    "def max_over_bins(qoi_arr, mu_grid, q_hat):\n",
    "    \"\"\"\n",
    "    Given grid of mu's, find the max predicted quantile over each.\n",
    "    \n",
    "    Parameters\n",
    "    ----------\n",
    "        qoi_arr (np arr) : quantity of interest values\n",
    "        mu_grid (np arr) : grid boundary points\n",
    "        q_hat   (np arr) : predicted quantile values\n",
    "    \"\"\"\n",
    "    # assign each point to bin via QoI\n",
    "    bin_assigns = I_vals(qoi_arr=qoi_arr, mu_grid=mu_grid)\n",
    "    \n",
    "    max_quantiles = np.zeros(mu_grid.shape[0] - 1)\n",
    "    for k in range(mu_grid.shape[0] - 1):\n",
    "        \n",
    "        # indices where bin is k\n",
    "        bin_k_idx = np.where(bin_assigns == k)[0]\n",
    "        \n",
    "        # max quantile for that bin\n",
    "        max_quantiles[k] = q_hat[bin_k_idx].max()\n",
    "        \n",
    "    return max_quantiles\n",
    "\n",
    "def solve_llr_fixed_y(qoi_vals, y, K, h=h, disable_tqdm=True):\n",
    "    \"\"\"\n",
    "    Solves the LLR for a collection of mu values and one fixed y.\n",
    "    \"\"\"\n",
    "    # instantiate llr\n",
    "    llr_solver = llrSolver(K=K, h=h)\n",
    "    \n",
    "    # solve opt2 once\n",
    "    opt_2_sol = llr_solver.solve_opt2(y=y)[0]\n",
    "    \n",
    "    # solve opt1 for each mu\n",
    "    opt_1_sols = np.zeros(qoi_vals.shape[0])\n",
    "    for i in tqdm(range(qoi_vals.shape[0]), disable=disable_tqdm):\n",
    "        opt_1_sols[i] = llr_solver.solve_opt1(y=y, mu=qoi_vals[i])[0]\n",
    "        \n",
    "    return opt_1_sols - opt_2_sol\n",
    "\n",
    "def compute_intervals(\n",
    "    y, qoi_vals, q_hat_vals, K, h,\n",
    "    num_mu_grid, alpha,\n",
    "    disable_tqdm=True\n",
    "):\n",
    "    \"\"\"\n",
    "    Computes four intervals:\n",
    "    1. MQ - Direct inversion\n",
    "    2. MQ - Optimized\n",
    "    3. MQmu - Parameter space inversion\n",
    "    4. MQmu - Functional space inversion\n",
    "\n",
    "    NOTE: this function requires precomputed test functional values\n",
    "    and precomputed quantile predictions at test points.\n",
    "\n",
    "    NOTE: for the mu-functional interval, instead of re-computing the\n",
    "    llr over a new grid, we simply use the original llr computations\n",
    "    over the test QoI values for the grid by sorting.\n",
    "\n",
    "    Parameters\n",
    "    ----------\n",
    "        i            (int)    : iteration index for parallelization\n",
    "        y            (np arr) : observation vector\n",
    "        qoi_vals     (np arr) : function values at test points\n",
    "        q_hat_vals   (np arr) : QR predictions at test points\n",
    "        K            (np arr) : linear forward model\n",
    "        h            (np arr) : linear functional\n",
    "        num_mu_grid  (int)    : number of mu grid elements\n",
    "        alpha        (float)  : 1 - confidence level\n",
    "        disable_tqdm (bool)   : toggles progress bar for llr values\n",
    "\n",
    "    Returns\n",
    "    -------\n",
    "        mq_direct   (tup)\n",
    "        mq_opt      (tup)\n",
    "        mq_mu_param (tup)\n",
    "        mq_mu_func  (tup)\n",
    "        osb         (tup)\n",
    "    \"\"\"\n",
    "    # solve for the LLR at each sampled functional value\n",
    "    llr_vals_qoi_test = solve_llr_fixed_y(\n",
    "        qoi_vals=qoi_vals,\n",
    "        y=y,\n",
    "        K=K,\n",
    "        h=h,\n",
    "        disable_tqdm=disable_tqdm\n",
    "    )\n",
    "\n",
    "    # --- MQ direct\n",
    "    admissible_qoi_direct_idxs = llr_vals_qoi_test <= q_hat_vals.max()\n",
    "    if admissible_qoi_direct_idxs.sum() < 2:\n",
    "        mq_direct = (qoi_vals.min(), qoi_vals.max())\n",
    "    else:\n",
    "        mq_direct = (\n",
    "            qoi_vals[admissible_qoi_direct_idxs].min(),\n",
    "            qoi_vals[admissible_qoi_direct_idxs].max()\n",
    "        )\n",
    "\n",
    "    # --- MQ Opt\n",
    "    mq_opt = osb_int(y=y, q=q_hat_vals.max(), K=K, h=h)\n",
    "\n",
    "    # --- MQmu param\n",
    "    admissible_qoi_idxs = llr_vals_qoi_test <= q_hat_vals\n",
    "    if admissible_qoi_idxs.sum() < 2:\n",
    "        mq_mu_param = (qoi_vals.min(), qoi_vals.max())\n",
    "    else:\n",
    "        mq_mu_param = (\n",
    "            qoi_vals[admissible_qoi_idxs].min(),\n",
    "            qoi_vals[admissible_qoi_idxs].max()\n",
    "        )\n",
    "\n",
    "    # --- MQmu func\n",
    "    # create mu grid\n",
    "    mu_grid = np.linspace(\n",
    "        qoi_vals.min(), qoi_vals.max(), num=num_mu_grid + 1\n",
    "    )\n",
    "    max_q_grid = max_over_bins(\n",
    "        qoi_arr=qoi_vals, mu_grid=mu_grid, q_hat=q_hat_vals\n",
    "    )\n",
    "\n",
    "    # fit the GP Reg\n",
    "    gpr = GaussianProcessRegressor(\n",
    "        kernel=RBF(length_scale=1e2), random_state=0\n",
    "    ).fit(mu_grid[:-1][:, np.newaxis], max_q_grid)\n",
    "\n",
    "    # get sorted versions of previous qoi and llr arrays\n",
    "    qoi_sort_idx = np.argsort(qoi_vals)\n",
    "    qoi_vals_sorted = qoi_vals[qoi_sort_idx].copy()\n",
    "    llr_vals_sorted = llr_vals_qoi_test[qoi_sort_idx].copy()\n",
    "\n",
    "    # evaluate fitted regression function over qoi_vals values\n",
    "    m_mu_gp_test = gpr.predict(qoi_vals_sorted[:, np.newaxis])\n",
    "\n",
    "    # obtain interval by finding smallest/largest_indices\n",
    "    zero_idxs = np.where(m_mu_gp_test - llr_vals_sorted >= 0)[0]\n",
    "    if zero_idxs.shape[0] < 2:\n",
    "        mq_mu_func = (qoi_vals_sorted[0], qoi_vals_sorted[-1])\n",
    "    else:\n",
    "        mq_mu_func = (\n",
    "            qoi_vals_sorted[zero_idxs[0]],\n",
    "            qoi_vals_sorted[zero_idxs[-1]]\n",
    "        )\n",
    "\n",
    "    # --- OSB Interval\n",
    "    osb = osb_int(y=y, q=stats.chi2(1).ppf(1 - alpha), K=K, h=h)\n",
    "\n",
    "    print(f'Iteration {i} | Intervals Computed')\n",
    "\n",
    "    return (\n",
    "        mq_direct,\n",
    "        mq_opt,\n",
    "        mq_mu_param,\n",
    "        mq_mu_func,\n",
    "        osb,\n",
    "        llr_vals_qoi_test,\n",
    "        m_mu_gp_test\n",
    "    )"
   ]
  },
  {
   "cell_type": "code",
   "execution_count": 53,
   "id": "19d0368c",
   "metadata": {},
   "outputs": [
    {
     "data": {
      "text/plain": [
       "3598.2487934782844"
      ]
     },
     "execution_count": 53,
     "metadata": {},
     "output_type": "execute_result"
    }
   ],
   "source": [
    "# true functional value?\n",
    "np.dot(h, unfold_obj.means_true)"
   ]
  },
  {
   "cell_type": "code",
   "execution_count": 54,
   "id": "ac0bc836",
   "metadata": {},
   "outputs": [
    {
     "data": {
      "application/vnd.jupyter.widget-view+json": {
       "model_id": "ecad06ad33844c359680005169a38f21",
       "version_major": 2,
       "version_minor": 0
      },
      "text/plain": [
       "  0%|          | 0/20000 [00:00<?, ?it/s]"
      ]
     },
     "metadata": {},
     "output_type": "display_data"
    }
   ],
   "source": [
    "# solve for the LLR at each sampled functional value\n",
    "llr_vals_qoi_test = solve_llr_fixed_y(\n",
    "    qoi_vals=chain_f_test,\n",
    "    y=data_tilde[OBS_IDX],\n",
    "    K=K_tilde,\n",
    "    h=h,\n",
    "    disable_tqdm=False\n",
    ")"
   ]
  },
  {
   "cell_type": "code",
   "execution_count": 56,
   "id": "d9629c92",
   "metadata": {},
   "outputs": [
    {
     "name": "stdout",
     "output_type": "stream",
     "text": [
      "(2414.865199803989, 4294.827625258442)\n"
     ]
    }
   ],
   "source": [
    "# OSB for comparison\n",
    "osb_opt = osb_int(y=data_tilde[OBS_IDX], q=stats.chi2(1).ppf(0.68), K=K_tilde, h=h)\n",
    "print(osb_opt)"
   ]
  },
  {
   "cell_type": "code",
   "execution_count": 57,
   "id": "8f9b25f1",
   "metadata": {},
   "outputs": [
    {
     "name": "stdout",
     "output_type": "stream",
     "text": [
      "(2281.413638795094, 4462.453193721742)\n"
     ]
    }
   ],
   "source": [
    "# MQ Direct\n",
    "mq_direct = (\n",
    "    chain_f_test[llr_vals_qoi_test <= predicted_oos_quantiles.max()].min(),\n",
    "    chain_f_test[llr_vals_qoi_test <= predicted_oos_quantiles.max()].max()\n",
    ")\n",
    "print(mq_direct)"
   ]
  },
  {
   "cell_type": "code",
   "execution_count": 58,
   "id": "5c426d4b",
   "metadata": {},
   "outputs": [
    {
     "name": "stdout",
     "output_type": "stream",
     "text": [
      "(2281.2222073406483, 4462.453482165726)\n"
     ]
    }
   ],
   "source": [
    "# MQ Opt\n",
    "mq_opt = osb_int(y=data_tilde[OBS_IDX], q=predicted_oos_quantiles.max(), K=K_tilde, h=h)\n",
    "print(mq_opt)"
   ]
  },
  {
   "cell_type": "code",
   "execution_count": 59,
   "id": "9411c61d",
   "metadata": {},
   "outputs": [
    {
     "name": "stdout",
     "output_type": "stream",
     "text": [
      "(2534.207490630085, 4087.935574939526)\n"
     ]
    }
   ],
   "source": [
    "# MQmu param\n",
    "mq_mu_param = (\n",
    "    chain_f_test[llr_vals_qoi_test <= predicted_oos_quantiles].min(),\n",
    "    chain_f_test[llr_vals_qoi_test <= predicted_oos_quantiles].max()\n",
    ")\n",
    "print(mq_mu_param)"
   ]
  },
  {
   "cell_type": "code",
   "execution_count": 97,
   "id": "e2279d5b",
   "metadata": {},
   "outputs": [],
   "source": [
    "# MQmu func\n",
    "NUM_MU_GRID = 20\n",
    "M = 20000\n",
    "\n",
    "# get sorted versions of previous qoi and llr arrays\n",
    "qoi_sort_idx = np.argsort(chain_f_test)\n",
    "qoi_vals_sorted = chain_f_test[qoi_sort_idx].copy()\n",
    "llr_vals_sorted = llr_vals_qoi_test[qoi_sort_idx].copy()\n",
    "\n",
    "# produce a grid across the actual sampled functional values\n",
    "mu_grid = qoi_vals_sorted[np.arange(start=M/NUM_MU_GRID, stop=M + 1 / M, step=M/NUM_MU_GRID, dtype=int) - 1]\n",
    "# np.linspace(\n",
    "#     chain_f_test.min(), chain_f_test.max(), num=NUM_MU_GRID + 1\n",
    "# )\n",
    "max_q_grid = max_over_bins(\n",
    "    qoi_arr=chain_f_test, mu_grid=mu_grid, q_hat=predicted_oos_quantiles\n",
    ")"
   ]
  },
  {
   "cell_type": "code",
   "execution_count": 100,
   "id": "9f7b3cc6",
   "metadata": {},
   "outputs": [
    {
     "name": "stdout",
     "output_type": "stream",
     "text": [
      "(2556.5460517368124, 4348.314932512722)\n"
     ]
    }
   ],
   "source": [
    "# fit the GP Reg\n",
    "gpr = GaussianProcessRegressor(\n",
    "    kernel=RBF(length_scale=1e2), random_state=0, alpha=0.2\n",
    ").fit(mu_grid[:-1][:, np.newaxis], max_q_grid)\n",
    "\n",
    "# evaluate fitted regression function over qoi_vals values\n",
    "m_mu_gp_test = gpr.predict(qoi_vals_sorted[:, np.newaxis])\n",
    "\n",
    "# obtain interval by finding smallest/largest_indices\n",
    "zero_idxs = np.where(m_mu_gp_test - llr_vals_sorted >= 0)[0]\n",
    "if zero_idxs.shape[0] < 2:\n",
    "    mq_mu_func = (qoi_vals_sorted[0], qoi_vals_sorted[-1])\n",
    "else:\n",
    "    mq_mu_func = (\n",
    "        qoi_vals_sorted[zero_idxs[0]],\n",
    "        qoi_vals_sorted[zero_idxs[-1]]\n",
    "    )\n",
    "print(mq_mu_func)"
   ]
  },
  {
   "cell_type": "code",
   "execution_count": 101,
   "id": "6a33bb19",
   "metadata": {},
   "outputs": [
    {
     "data": {
      "image/png": "[encoded data removed]",
      "text/plain": [
       "<Figure size 800x400 with 1 Axes>"
      ]
     },
     "metadata": {},
     "output_type": "display_data"
    }
   ],
   "source": [
    "plt.figure(figsize=(8, 4))\n",
    "plt.plot(qoi_vals_sorted, llr_vals_sorted, label=r'$\\lambda(\\mu_i, y)$')\n",
    "\n",
    "plt.plot(qoi_vals_sorted, m_mu_gp_test, label='Fitted GP')\n",
    "plt.scatter(mu_grid[:-1], max_q_grid)\n",
    "\n",
    "plt.axhline(predicted_oos_quantiles.max(), linestyle='--', label='Max OOS Quantile', color='gray')\n",
    "plt.axhline(stats.chi2(1).ppf(0.68), linestyle='--', label='OSB', color='red')\n",
    "plt.ylim(-1, 5)\n",
    "\n",
    "plt.xlabel(r'Functional Values ($\\mu$)')\n",
    "plt.legend()\n",
    "plt.show()"
   ]
  },
  {
   "cell_type": "code",
   "execution_count": 64,
   "id": "72e6f62d",
   "metadata": {},
   "outputs": [
    {
     "name": "stdout",
     "output_type": "stream",
     "text": [
      "-- Intervals --\n",
      "MQ Direct  : (2281.413638795094, 4462.453193721742)\n",
      "MQ Opt     : (2281.2222073406483, 4462.453482165726)\n",
      "MQmu Param : (2534.207490630085, 4087.935574939526)\n",
      "MQmu func  : (2531.620115841273, 4403.565308677664)\n",
      "OSB        : (2414.865199803989, 4294.827625258442)\n"
     ]
    }
   ],
   "source": [
    "print('-- Intervals --')\n",
    "print(f'MQ Direct  : {mq_direct}')\n",
    "print(f'MQ Opt     : {mq_opt}')\n",
    "print(f'MQmu Param : {mq_mu_param}')\n",
    "print(f'MQmu func  : {mq_mu_func}')\n",
    "print(f'OSB        : {osb_opt}')"
   ]
  },
  {
   "cell_type": "code",
   "execution_count": null,
   "id": "14b36512",
   "metadata": {},
   "outputs": [],
   "source": []
  }
 ],
 "metadata": {
  "kernelspec": {
   "display_name": "Python 3 (ipykernel)",
   "language": "python",
   "name": "python3"
  },
  "language_info": {
   "codemirror_mode": {
    "name": "ipython",
    "version": 3
   },
   "file_extension": ".py",
   "mimetype": "text/x-python",
   "name": "python",
   "nbconvert_exporter": "python",
   "pygments_lexer": "ipython3",
   "version": "3.8.18"
  }
 },
 "nbformat": 4,
 "nbformat_minor": 5
}
